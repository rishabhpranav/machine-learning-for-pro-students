{
 "cells": [
  {
   "cell_type": "code",
   "execution_count": 1,
   "metadata": {},
   "outputs": [],
   "source": [
    "import bs4\n",
    "import urllib.request as url"
   ]
  },
  {
   "cell_type": "code",
   "execution_count": 2,
   "metadata": {},
   "outputs": [],
   "source": [
    "http = url.urlopen('http://stats.espncricinfo.com/ci/engine/records/averages/batting.html?class=2;id=6;type=team')"
   ]
  },
  {
   "cell_type": "code",
   "execution_count": 3,
   "metadata": {},
   "outputs": [
    {
     "data": {
      "text/plain": [
       "<http.client.HTTPResponse at 0x2c7fc3769e8>"
      ]
     },
     "execution_count": 3,
     "metadata": {},
     "output_type": "execute_result"
    }
   ],
   "source": [
    "http"
   ]
  },
  {
   "cell_type": "code",
   "execution_count": 4,
   "metadata": {},
   "outputs": [],
   "source": [
    "page = bs4.BeautifulSoup(http, 'lxml')"
   ]
  },
  {
   "cell_type": "code",
   "execution_count": 42,
   "metadata": {},
   "outputs": [],
   "source": [
    "table = page.find('table',class_='engineTable')"
   ]
  },
  {
   "cell_type": "code",
   "execution_count": 43,
   "metadata": {},
   "outputs": [],
   "source": [
    "tableText = table.text"
   ]
  },
  {
   "cell_type": "code",
   "execution_count": 44,
   "metadata": {},
   "outputs": [],
   "source": [
    "tableText = tableText.split(\"\\n\\n\\n\")"
   ]
  },
  {
   "cell_type": "code",
   "execution_count": 45,
   "metadata": {},
   "outputs": [],
   "source": [
    "del tableText[0]"
   ]
  },
  {
   "cell_type": "code",
   "execution_count": 46,
   "metadata": {},
   "outputs": [],
   "source": [
    "for i in range(len(tableText)):\n",
    "    tableText[i] = tableText[i].split(\"\\n\")"
   ]
  },
  {
   "cell_type": "code",
   "execution_count": 48,
   "metadata": {},
   "outputs": [],
   "source": [
    "del tableText[1][0]"
   ]
  },
  {
   "cell_type": "code",
   "execution_count": 49,
   "metadata": {},
   "outputs": [
    {
     "data": {
      "text/plain": [
       "['VR Aaron',\n",
       " '2011-2014',\n",
       " '9',\n",
       " '3',\n",
       " '2',\n",
       " '8',\n",
       " '6*',\n",
       " '8.00',\n",
       " '15',\n",
       " '53.33',\n",
       " '0',\n",
       " '0',\n",
       " '1',\n",
       " '1',\n",
       " '0']"
      ]
     },
     "execution_count": 49,
     "metadata": {},
     "output_type": "execute_result"
    }
   ],
   "source": [
    "tableText[1]"
   ]
  },
  {
   "cell_type": "code",
   "execution_count": 37,
   "metadata": {},
   "outputs": [],
   "source": [
    "import pandas as pd"
   ]
  },
  {
   "cell_type": "code",
   "execution_count": 50,
   "metadata": {},
   "outputs": [],
   "source": [
    "df = pd.DataFrame(tableText)"
   ]
  },
  {
   "cell_type": "code",
   "execution_count": 51,
   "metadata": {},
   "outputs": [
    {
     "data": {
      "text/plain": [
       "(229, 15)"
      ]
     },
     "execution_count": 51,
     "metadata": {},
     "output_type": "execute_result"
    }
   ],
   "source": [
    "df.shape"
   ]
  },
  {
   "cell_type": "code",
   "execution_count": 52,
   "metadata": {},
   "outputs": [
    {
     "data": {
      "text/html": [
       "<div>\n",
       "<style scoped>\n",
       "    .dataframe tbody tr th:only-of-type {\n",
       "        vertical-align: middle;\n",
       "    }\n",
       "\n",
       "    .dataframe tbody tr th {\n",
       "        vertical-align: top;\n",
       "    }\n",
       "\n",
       "    .dataframe thead th {\n",
       "        text-align: right;\n",
       "    }\n",
       "</style>\n",
       "<table border=\"1\" class=\"dataframe\">\n",
       "  <thead>\n",
       "    <tr style=\"text-align: right;\">\n",
       "      <th></th>\n",
       "      <th>0</th>\n",
       "      <th>1</th>\n",
       "      <th>2</th>\n",
       "      <th>3</th>\n",
       "      <th>4</th>\n",
       "      <th>5</th>\n",
       "      <th>6</th>\n",
       "      <th>7</th>\n",
       "      <th>8</th>\n",
       "      <th>9</th>\n",
       "      <th>10</th>\n",
       "      <th>11</th>\n",
       "      <th>12</th>\n",
       "      <th>13</th>\n",
       "      <th>14</th>\n",
       "    </tr>\n",
       "  </thead>\n",
       "  <tbody>\n",
       "    <tr>\n",
       "      <th>0</th>\n",
       "      <td>Player</td>\n",
       "      <td>Span</td>\n",
       "      <td>Mat</td>\n",
       "      <td>Inns</td>\n",
       "      <td>NO</td>\n",
       "      <td>Runs</td>\n",
       "      <td>HS</td>\n",
       "      <td>Ave</td>\n",
       "      <td>BF</td>\n",
       "      <td>SR</td>\n",
       "      <td>100</td>\n",
       "      <td>50</td>\n",
       "      <td>0</td>\n",
       "      <td>4s</td>\n",
       "      <td>6s</td>\n",
       "    </tr>\n",
       "    <tr>\n",
       "      <th>1</th>\n",
       "      <td>VR Aaron</td>\n",
       "      <td>2011-2014</td>\n",
       "      <td>9</td>\n",
       "      <td>3</td>\n",
       "      <td>2</td>\n",
       "      <td>8</td>\n",
       "      <td>6*</td>\n",
       "      <td>8.00</td>\n",
       "      <td>15</td>\n",
       "      <td>53.33</td>\n",
       "      <td>0</td>\n",
       "      <td>0</td>\n",
       "      <td>1</td>\n",
       "      <td>1</td>\n",
       "      <td>0</td>\n",
       "    </tr>\n",
       "    <tr>\n",
       "      <th>2</th>\n",
       "      <td>S Abid Ali</td>\n",
       "      <td>1974-1975</td>\n",
       "      <td>5</td>\n",
       "      <td>3</td>\n",
       "      <td>0</td>\n",
       "      <td>93</td>\n",
       "      <td>70</td>\n",
       "      <td>31.00</td>\n",
       "      <td>132</td>\n",
       "      <td>70.45</td>\n",
       "      <td>0</td>\n",
       "      <td>1</td>\n",
       "      <td>0</td>\n",
       "      <td>6</td>\n",
       "      <td>1</td>\n",
       "    </tr>\n",
       "    <tr>\n",
       "      <th>3</th>\n",
       "      <td>AB Agarkar</td>\n",
       "      <td>1998-2007</td>\n",
       "      <td>191</td>\n",
       "      <td>113</td>\n",
       "      <td>26</td>\n",
       "      <td>1269</td>\n",
       "      <td>95</td>\n",
       "      <td>14.58</td>\n",
       "      <td>1574</td>\n",
       "      <td>80.62</td>\n",
       "      <td>0</td>\n",
       "      <td>3</td>\n",
       "      <td>10</td>\n",
       "      <td>103</td>\n",
       "      <td>22</td>\n",
       "    </tr>\n",
       "    <tr>\n",
       "      <th>4</th>\n",
       "      <td>KK Ahmed</td>\n",
       "      <td>2018-2019</td>\n",
       "      <td>11</td>\n",
       "      <td>3</td>\n",
       "      <td>1</td>\n",
       "      <td>9</td>\n",
       "      <td>5</td>\n",
       "      <td>4.50</td>\n",
       "      <td>17</td>\n",
       "      <td>52.94</td>\n",
       "      <td>0</td>\n",
       "      <td>0</td>\n",
       "      <td>0</td>\n",
       "      <td>1</td>\n",
       "      <td>0</td>\n",
       "    </tr>\n",
       "  </tbody>\n",
       "</table>\n",
       "</div>"
      ],
      "text/plain": [
       "           0          1    2     3   4     5   6      7     8      9    10  \\\n",
       "0      Player       Span  Mat  Inns  NO  Runs  HS    Ave    BF     SR  100   \n",
       "1    VR Aaron  2011-2014    9     3   2     8  6*   8.00    15  53.33    0   \n",
       "2  S Abid Ali  1974-1975    5     3   0    93  70  31.00   132  70.45    0   \n",
       "3  AB Agarkar  1998-2007  191   113  26  1269  95  14.58  1574  80.62    0   \n",
       "4    KK Ahmed  2018-2019   11     3   1     9   5   4.50    17  52.94    0   \n",
       "\n",
       "   11  12   13  14  \n",
       "0  50   0   4s  6s  \n",
       "1   0   1    1   0  \n",
       "2   1   0    6   1  \n",
       "3   3  10  103  22  \n",
       "4   0   0    1   0  "
      ]
     },
     "execution_count": 52,
     "metadata": {},
     "output_type": "execute_result"
    }
   ],
   "source": [
    "# will print first 5 observations\n",
    "df.head()"
   ]
  },
  {
   "cell_type": "code",
   "execution_count": 53,
   "metadata": {},
   "outputs": [],
   "source": [
    "df.columns = df.iloc[0]"
   ]
  },
  {
   "cell_type": "code",
   "execution_count": 54,
   "metadata": {},
   "outputs": [
    {
     "data": {
      "text/html": [
       "<div>\n",
       "<style scoped>\n",
       "    .dataframe tbody tr th:only-of-type {\n",
       "        vertical-align: middle;\n",
       "    }\n",
       "\n",
       "    .dataframe tbody tr th {\n",
       "        vertical-align: top;\n",
       "    }\n",
       "\n",
       "    .dataframe thead th {\n",
       "        text-align: right;\n",
       "    }\n",
       "</style>\n",
       "<table border=\"1\" class=\"dataframe\">\n",
       "  <thead>\n",
       "    <tr style=\"text-align: right;\">\n",
       "      <th></th>\n",
       "      <th>Player</th>\n",
       "      <th>Span</th>\n",
       "      <th>Mat</th>\n",
       "      <th>Inns</th>\n",
       "      <th>NO</th>\n",
       "      <th>Runs</th>\n",
       "      <th>HS</th>\n",
       "      <th>Ave</th>\n",
       "      <th>BF</th>\n",
       "      <th>SR</th>\n",
       "      <th>100</th>\n",
       "      <th>50</th>\n",
       "      <th>0</th>\n",
       "      <th>4s</th>\n",
       "      <th>6s</th>\n",
       "    </tr>\n",
       "  </thead>\n",
       "  <tbody>\n",
       "    <tr>\n",
       "      <th>0</th>\n",
       "      <td>Player</td>\n",
       "      <td>Span</td>\n",
       "      <td>Mat</td>\n",
       "      <td>Inns</td>\n",
       "      <td>NO</td>\n",
       "      <td>Runs</td>\n",
       "      <td>HS</td>\n",
       "      <td>Ave</td>\n",
       "      <td>BF</td>\n",
       "      <td>SR</td>\n",
       "      <td>100</td>\n",
       "      <td>50</td>\n",
       "      <td>0</td>\n",
       "      <td>4s</td>\n",
       "      <td>6s</td>\n",
       "    </tr>\n",
       "    <tr>\n",
       "      <th>1</th>\n",
       "      <td>VR Aaron</td>\n",
       "      <td>2011-2014</td>\n",
       "      <td>9</td>\n",
       "      <td>3</td>\n",
       "      <td>2</td>\n",
       "      <td>8</td>\n",
       "      <td>6*</td>\n",
       "      <td>8.00</td>\n",
       "      <td>15</td>\n",
       "      <td>53.33</td>\n",
       "      <td>0</td>\n",
       "      <td>0</td>\n",
       "      <td>1</td>\n",
       "      <td>1</td>\n",
       "      <td>0</td>\n",
       "    </tr>\n",
       "    <tr>\n",
       "      <th>2</th>\n",
       "      <td>S Abid Ali</td>\n",
       "      <td>1974-1975</td>\n",
       "      <td>5</td>\n",
       "      <td>3</td>\n",
       "      <td>0</td>\n",
       "      <td>93</td>\n",
       "      <td>70</td>\n",
       "      <td>31.00</td>\n",
       "      <td>132</td>\n",
       "      <td>70.45</td>\n",
       "      <td>0</td>\n",
       "      <td>1</td>\n",
       "      <td>0</td>\n",
       "      <td>6</td>\n",
       "      <td>1</td>\n",
       "    </tr>\n",
       "    <tr>\n",
       "      <th>3</th>\n",
       "      <td>AB Agarkar</td>\n",
       "      <td>1998-2007</td>\n",
       "      <td>191</td>\n",
       "      <td>113</td>\n",
       "      <td>26</td>\n",
       "      <td>1269</td>\n",
       "      <td>95</td>\n",
       "      <td>14.58</td>\n",
       "      <td>1574</td>\n",
       "      <td>80.62</td>\n",
       "      <td>0</td>\n",
       "      <td>3</td>\n",
       "      <td>10</td>\n",
       "      <td>103</td>\n",
       "      <td>22</td>\n",
       "    </tr>\n",
       "    <tr>\n",
       "      <th>4</th>\n",
       "      <td>KK Ahmed</td>\n",
       "      <td>2018-2019</td>\n",
       "      <td>11</td>\n",
       "      <td>3</td>\n",
       "      <td>1</td>\n",
       "      <td>9</td>\n",
       "      <td>5</td>\n",
       "      <td>4.50</td>\n",
       "      <td>17</td>\n",
       "      <td>52.94</td>\n",
       "      <td>0</td>\n",
       "      <td>0</td>\n",
       "      <td>0</td>\n",
       "      <td>1</td>\n",
       "      <td>0</td>\n",
       "    </tr>\n",
       "  </tbody>\n",
       "</table>\n",
       "</div>"
      ],
      "text/plain": [
       "0      Player       Span  Mat  Inns  NO  Runs  HS    Ave    BF     SR  100  \\\n",
       "0      Player       Span  Mat  Inns  NO  Runs  HS    Ave    BF     SR  100   \n",
       "1    VR Aaron  2011-2014    9     3   2     8  6*   8.00    15  53.33    0   \n",
       "2  S Abid Ali  1974-1975    5     3   0    93  70  31.00   132  70.45    0   \n",
       "3  AB Agarkar  1998-2007  191   113  26  1269  95  14.58  1574  80.62    0   \n",
       "4    KK Ahmed  2018-2019   11     3   1     9   5   4.50    17  52.94    0   \n",
       "\n",
       "0  50   0   4s  6s  \n",
       "0  50   0   4s  6s  \n",
       "1   0   1    1   0  \n",
       "2   1   0    6   1  \n",
       "3   3  10  103  22  \n",
       "4   0   0    1   0  "
      ]
     },
     "execution_count": 54,
     "metadata": {},
     "output_type": "execute_result"
    }
   ],
   "source": [
    "df.head()"
   ]
  },
  {
   "cell_type": "code",
   "execution_count": 57,
   "metadata": {},
   "outputs": [],
   "source": [
    "df.drop(index=0,inplace=True)"
   ]
  },
  {
   "cell_type": "code",
   "execution_count": 58,
   "metadata": {},
   "outputs": [
    {
     "data": {
      "text/html": [
       "<div>\n",
       "<style scoped>\n",
       "    .dataframe tbody tr th:only-of-type {\n",
       "        vertical-align: middle;\n",
       "    }\n",
       "\n",
       "    .dataframe tbody tr th {\n",
       "        vertical-align: top;\n",
       "    }\n",
       "\n",
       "    .dataframe thead th {\n",
       "        text-align: right;\n",
       "    }\n",
       "</style>\n",
       "<table border=\"1\" class=\"dataframe\">\n",
       "  <thead>\n",
       "    <tr style=\"text-align: right;\">\n",
       "      <th></th>\n",
       "      <th>Player</th>\n",
       "      <th>Span</th>\n",
       "      <th>Mat</th>\n",
       "      <th>Inns</th>\n",
       "      <th>NO</th>\n",
       "      <th>Runs</th>\n",
       "      <th>HS</th>\n",
       "      <th>Ave</th>\n",
       "      <th>BF</th>\n",
       "      <th>SR</th>\n",
       "      <th>100</th>\n",
       "      <th>50</th>\n",
       "      <th>0</th>\n",
       "      <th>4s</th>\n",
       "      <th>6s</th>\n",
       "    </tr>\n",
       "  </thead>\n",
       "  <tbody>\n",
       "    <tr>\n",
       "      <th>1</th>\n",
       "      <td>VR Aaron</td>\n",
       "      <td>2011-2014</td>\n",
       "      <td>9</td>\n",
       "      <td>3</td>\n",
       "      <td>2</td>\n",
       "      <td>8</td>\n",
       "      <td>6*</td>\n",
       "      <td>8.00</td>\n",
       "      <td>15</td>\n",
       "      <td>53.33</td>\n",
       "      <td>0</td>\n",
       "      <td>0</td>\n",
       "      <td>1</td>\n",
       "      <td>1</td>\n",
       "      <td>0</td>\n",
       "    </tr>\n",
       "    <tr>\n",
       "      <th>2</th>\n",
       "      <td>S Abid Ali</td>\n",
       "      <td>1974-1975</td>\n",
       "      <td>5</td>\n",
       "      <td>3</td>\n",
       "      <td>0</td>\n",
       "      <td>93</td>\n",
       "      <td>70</td>\n",
       "      <td>31.00</td>\n",
       "      <td>132</td>\n",
       "      <td>70.45</td>\n",
       "      <td>0</td>\n",
       "      <td>1</td>\n",
       "      <td>0</td>\n",
       "      <td>6</td>\n",
       "      <td>1</td>\n",
       "    </tr>\n",
       "    <tr>\n",
       "      <th>3</th>\n",
       "      <td>AB Agarkar</td>\n",
       "      <td>1998-2007</td>\n",
       "      <td>191</td>\n",
       "      <td>113</td>\n",
       "      <td>26</td>\n",
       "      <td>1269</td>\n",
       "      <td>95</td>\n",
       "      <td>14.58</td>\n",
       "      <td>1574</td>\n",
       "      <td>80.62</td>\n",
       "      <td>0</td>\n",
       "      <td>3</td>\n",
       "      <td>10</td>\n",
       "      <td>103</td>\n",
       "      <td>22</td>\n",
       "    </tr>\n",
       "    <tr>\n",
       "      <th>4</th>\n",
       "      <td>KK Ahmed</td>\n",
       "      <td>2018-2019</td>\n",
       "      <td>11</td>\n",
       "      <td>3</td>\n",
       "      <td>1</td>\n",
       "      <td>9</td>\n",
       "      <td>5</td>\n",
       "      <td>4.50</td>\n",
       "      <td>17</td>\n",
       "      <td>52.94</td>\n",
       "      <td>0</td>\n",
       "      <td>0</td>\n",
       "      <td>0</td>\n",
       "      <td>1</td>\n",
       "      <td>0</td>\n",
       "    </tr>\n",
       "    <tr>\n",
       "      <th>5</th>\n",
       "      <td>M Amarnath</td>\n",
       "      <td>1975-1989</td>\n",
       "      <td>85</td>\n",
       "      <td>75</td>\n",
       "      <td>12</td>\n",
       "      <td>1924</td>\n",
       "      <td>102*</td>\n",
       "      <td>30.53</td>\n",
       "      <td>3334</td>\n",
       "      <td>57.70</td>\n",
       "      <td>2</td>\n",
       "      <td>13</td>\n",
       "      <td>2</td>\n",
       "      <td>123+</td>\n",
       "      <td>9+</td>\n",
       "    </tr>\n",
       "  </tbody>\n",
       "</table>\n",
       "</div>"
      ],
      "text/plain": [
       "0      Player       Span  Mat Inns  NO  Runs    HS    Ave    BF     SR 100  \\\n",
       "1    VR Aaron  2011-2014    9    3   2     8    6*   8.00    15  53.33   0   \n",
       "2  S Abid Ali  1974-1975    5    3   0    93    70  31.00   132  70.45   0   \n",
       "3  AB Agarkar  1998-2007  191  113  26  1269    95  14.58  1574  80.62   0   \n",
       "4    KK Ahmed  2018-2019   11    3   1     9     5   4.50    17  52.94   0   \n",
       "5  M Amarnath  1975-1989   85   75  12  1924  102*  30.53  3334  57.70   2   \n",
       "\n",
       "0  50   0    4s  6s  \n",
       "1   0   1     1   0  \n",
       "2   1   0     6   1  \n",
       "3   3  10   103  22  \n",
       "4   0   0     1   0  \n",
       "5  13   2  123+  9+  "
      ]
     },
     "execution_count": 58,
     "metadata": {},
     "output_type": "execute_result"
    }
   ],
   "source": [
    "df.head()"
   ]
  },
  {
   "cell_type": "code",
   "execution_count": null,
   "metadata": {},
   "outputs": [],
   "source": []
  }
 ],
 "metadata": {
  "kernelspec": {
   "display_name": "Python 3",
   "language": "python",
   "name": "python3"
  },
  "language_info": {
   "codemirror_mode": {
    "name": "ipython",
    "version": 3
   },
   "file_extension": ".py",
   "mimetype": "text/x-python",
   "name": "python",
   "nbconvert_exporter": "python",
   "pygments_lexer": "ipython3",
   "version": "3.7.3"
  }
 },
 "nbformat": 4,
 "nbformat_minor": 2
}
